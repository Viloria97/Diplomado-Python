{
  "metadata": {
    "language_info": {
      "codemirror_mode": {
        "name": "python",
        "version": 3
      },
      "file_extension": ".py",
      "mimetype": "text/x-python",
      "name": "python",
      "nbconvert_exporter": "python",
      "pygments_lexer": "ipython3",
      "version": "3.8"
    },
    "kernelspec": {
      "name": "python",
      "display_name": "Python (Pyodide)",
      "language": "python"
    }
  },
  "nbformat_minor": 4,
  "nbformat": 4,
  "cells": [
    {
      "cell_type": "markdown",
      "source": "## INFORME DEL ESTADO DE LA EDUCACIÓN BÁSICA EN COLOMBIA DESDE EL AÑO 2011 AL 2020\n## MEN_ESTADISTICAS_EN_EDUCACION_EN_PREESCOLAR__B_SICA_Y_MEDIA_POR_MUNICIPIO",
      "metadata": {}
    },
    {
      "cell_type": "markdown",
      "source": "## EXPLICATION CODIGO EN LENGUAJE  R",
      "metadata": {}
    },
    {
      "cell_type": "markdown",
      "source": "##   Instalar y cargar las bibliotecas necesarias\n## Aqui estan las metricas que vimos en  clases sobre modelos de predicion",
      "metadata": {}
    },
    {
      "cell_type": "markdown",
      "source": "## Calcular las métricas de calidad\n## me <- mae(y_test, y_pred)  # Mean Absolute Error\n## mse <- mse(y_test, y_pred)  # Mean Squared Error\n## rmse <- sqrt(mse)  # Root Mean Squared Error\n## mape <- mape(y_test, y_pred)  # Mean Absolute Percent Error\n## mpe <- mpe(y_test, y_pred)  # Mean Percent Error\n## r2 <- r2(y_test, y_pred)  # R-squared\n",
      "metadata": {}
    },
    {
      "cell_type": "code",
      "source": "# Instalar y cargar las bibliotecas necesarias\ninstall.packages(\"Metrics\")  # Instalar el paquete Metrics si no está instalado\nlibrary(Metrics)\n\n# Calcular las predicciones en el conjunto de prueba\ny_pred <- predict(model, newdata = X_test)\n\n# Calcular las métricas de calidad\nme <- mae(y_test, y_pred)  # Mean Absolute Error\nmse <- mse(y_test, y_pred)  # Mean Squared Error\nrmse <- sqrt(mse)  # Root Mean Squared Error\nmape <- mape(y_test, y_pred)  # Mean Absolute Percent Error\nmpe <- mpe(y_test, y_pred)  # Mean Percent Error\nr2 <- r2(y_test, y_pred)  # R-squared\n\n# Mostrar los resultados\ncat(\"ME (Mean Error): \", me, \"\\n\")\ncat(\"MPE (Mean Percent Error): \", mpe, \"%\\n\")\ncat(\"MSE (Mean Squared Error): \", mse, \"\\n\")\ncat(\"RMSE (Root Mean Squared Error): \", rmse, \"\\n\")\ncat(\"MAE (Mean Absolute Error): \", me, \"\\n\")\ncat(\"MAPE (Mean Absolute Percent Error): \", mape, \"%\\n\")\ncat(\"R2 Score: \", r2, \"\\n\")\n",
      "metadata": {},
      "execution_count": null,
      "outputs": []
    },
    {
      "cell_type": "code",
      "source": "# Instalar y cargar las bibliotecas necesarias\ninstall.packages(\"Metrics\")  # Instalar el paquete Metrics si no está instalado\nlibrary(Metrics)\n\n# Supongamos que tenemos los datos de observación y predicción\ny_true <- c(10, 20, 30, 40, 50)\ny_pred <- c(12, 18, 32, 41, 55)\n\n# Calcula las métricas\nme <- mean_error(y_true, y_pred)\nmse <- mean_squared_error(y_true, y_pred)\nrmse <- sqrt(mse)\nmae <- mean_absolute_error(y_true, y_pred)\nmape <- mean_absolute_percentage_error(y_true, y_pred)\n\n# Imprime los resultados\ncat(\"Mean Error (ME): \", me, \"\\n\")\ncat(\"Mean Squared Error (MSE): \", mse, \"\\n\")\ncat(\"Root Mean Squared Error (RMSE): \", rmse, \"\\n\")\ncat(\"Mean Absolute Error (MAE): \", mae, \"\\n\")\ncat(\"Mean Absolute Percent Error (MAPE): \", mape, \"\\n\")\n",
      "metadata": {},
      "execution_count": null,
      "outputs": []
    },
    {
      "cell_type": "markdown",
      "source": "## Aqui estan las metricas que vimos en clases sobre modelos de predicion\n## Supongamos que tienemos las columnas 'GASTO_POR_ESTUDIANTE', 'RATIO_DOCENTES_ESTUDIANTES'\n## Imprime los resultados para la variable 'GASTO_POR_ESTUDIANTE'",
      "metadata": {}
    },
    {
      "cell_type": "code",
      "source": "# Instalar y cargar las bibliotecas necesarias\ninstall.packages(\"Metrics\")  # Instalar el paquete Metrics si no está instalado\nlibrary(Metrics)\n\n# tenemos los datos de observación y predicción para las nuevas variables\ny_true_new <- c(10, 20, 30, 40, 50)\ny_pred_new <- c(12, 18, 32, 41, 55)\n\n# Calcula las métricas para las nuevas variables\nme_new <- mean_error(y_true_new, y_pred_new)\nmse_new <- mean_squared_error(y_true_new, y_pred_new)\nrmse_new <- sqrt(mse_new)\nmae_new <- mean_absolute_error(y_true_new, y_pred_new)\nmape_new <- mean_absolute_percentage_error(y_true_new, y_pred_new)\n\n# Imprime los resultados para las nuevas variables\ncat(\"Resultados para las nuevas variables:\\n\")\ncat(\"Mean Error (ME): \", me_new, \"\\n\")\ncat(\"Mean Squared Error (MSE): \", mse_new, \"\\n\")\ncat(\"Root Mean Squared Error (RMSE): \", rmse_new, \"\\n\")\ncat(\"Mean Absolute Error (MAE): \", mae_new, \"\\n\")\ncat(\"Mean Absolute Percent Error (MAPE): \", mape_new, \"\\n\")\n\n# Aqui lo que hacemos es que vamos a cargar un conjunto de datos con las variables mencionadas\n\n# Cargar los datos\ndata <- data.frame(\n  GASTO_POR_ESTUDIANTE = c(5000, 6000, 7000, 8000, 9000),\n  RATIO_DOCENTES_ESTUDIANTES = c(15, 14, 13, 12, 11),\n  ÍNDICE_DE_DESARROLLO_HUMANO = c(0.8, 0.85, 0.9, 0.92, 0.95),\n  TASA_DE_GRADUACIÓN = c(90, 92, 95, 88, 91),\n  TASA_DE_ABANDONO_ESCOLAR = c(5, 4, 3, 2, 1),\n  TASA_DE_REPROBACIÓN = c(8, 7, 6, 5, 4)\n)\n\n# Supongamos que tienemos las columnas 'GASTO_POR_ESTUDIANTE', 'RATIO_DOCENTES_ESTUDIANTES'\n\n# Calcula las métricas para estas variables\nme_gasto <- mean_error(data$GASTO_POR_ESTUDIANTE, data$y_pred_new)  \nmse_gasto <- mean_squared_error(data$GASTO_POR_ESTUDIANTE, data$y_pred_new)\nrmse_gasto <- sqrt(mse_gasto)\nmae_gasto <- mean_absolute_error(data$GASTO_POR_ESTUDIANTE, data$y_pred_new)\nmape_gasto <- mean_absolute_percentage_error(data$GASTO_POR_ESTUDIANTE, data$y_pred_new)\n\n# Imprime los resultados para la variable 'GASTO_POR_ESTUDIANTE'\ncat(\"\\nResultados para la variable 'GASTO_POR_ESTUDIANTE':\\n\")\ncat(\"Mean Error (ME): \", me_gasto, \"\\n\")\ncat(\"Mean Squared Error (MSE): \", mse_gasto, \"\\n\")\ncat(\"Root Mean Squared Error (RMSE): \", rmse_gasto, \"\\n\")\ncat(\"Mean Absolute Error (MAE): \", mae_gasto, \"\\n\")\ncat(\"Mean Absolute Percent Error (MAPE): \", mape_gasto, \"\\n\")\n",
      "metadata": {},
      "execution_count": null,
      "outputs": []
    },
    {
      "cell_type": "code",
      "source": "\n# Instalar y cargar las bibliotecas necesarias\ninstall.packages(c(\"tidyverse\", \"plotly\", \"viridis\", \"data.table\"))  # Instalar paquetes necesarios\nlibrary(tidyverse)\nlibrary(plotly)\nlibrary(viridis)\nlibrary(data.table)\n\n# Cargar datos\ndata <- fread(\"MEN_ESTADISTICAS_EN_EDUCACION_EN_PREESCOLAR__B_SICA_Y_MEDIA_POR_MUNICIPIO.csv\")\ndata2 <- copy(data)\n\n# Visualización de la Base de Datos\nprint(data)\n\n# Tipos de datos en el dataframe\nprint(str(data))\n\n# Valores Nulos (Missing Values)\nprint(data %>% summarise_all(~sum(is.na(.))) %>% t() %>% as.data.frame())\n\n# Número total de valores faltantes en el dataframe\nsum(is.na(data))\n\n# Eliminar filas con valores nulos\ndata <- data %>% drop_na()\n\n# Departamentos seleccionados\nDepartamentos <- c('Cauca', 'Córdoba', 'Guainía', 'Guaviare', 'Vaupés', 'Vichada', 'Bogotá, D.C.')\nVariables <- c('COBERTURA_NETA', 'TASA_MATRICULACIÓN_5_16', 'SEDES_CONECTADAS_A_INTERNET')\n\n# Pivot table\npivot_table_result <- data %>%\n  filter(DEPARTAMENTO %in% Departamentos) %>%\n  group_by(DEPARTAMENTO) %>%\n  summarise(across(Variables, mean))\n\n# Gráfico interactivo con plotly\nfigura1 <- pivot_table_result %>%\n  pivot_longer(cols = Variables) %>%\n  ggplot(aes(x = name, y = value, fill = DEPARTAMENTO)) +\n  geom_bar(stat = \"identity\", position = \"dodge\") +\n  scale_fill_viridis(discrete = TRUE) +\n  labs(title = \"PARTICIPACIÓN OBTENIDA POR DEPARTAMENTO\",\n       x = \"Variable\",\n       y = \"Porcentaje\") +\n  theme_minimal() +\n  theme(legend.position = \"bottom\") +\n  coord_flip()\n\n# Imprimir gráfico\nprint(figura1)\n\n# ¿Cuáles son los 3 municipios con MENOR cobertura y tasa de matriculación en promedio?\npunto2 <- data %>%\n  group_by(MUNICIPIO) %>%\n  summarise(COBERTURA_NETA = mean(COBERTURA_NETA),\n            TASA_MATRICULACIÓN_5_16 = mean(TASA_MATRICULACIÓN_5_16)) %>%\n  arrange(COBERTURA_NETA, TASA_MATRICULACIÓN_5_16)\n\n# Imprimir resultados\nprint(head(punto2, 3))\n\n# ¿Cuáles son los 3 municipios con MAYOR cobertura y tasa de matriculación en promedio?\npunto3 <- data %>%\n  group_by(MUNICIPIO) %>%\n  summarise(COBERTURA_NETA = mean(COBERTURA_NETA),\n            TASA_MATRICULACIÓN_5_16 = mean(TASA_MATRICULACIÓN_5_16)) %>%\n  arrange(desc(COBERTURA_NETA), desc(TASA_MATRICULACIÓN_5_16))\n\n# Imprimir resultados\nprint(head(punto3, 3))\n\n# Series temporales\ndata$FECHA <- as.Date(paste0(substr(data$AÑO, 1, 4), \"-01-01\"))\n\n# Evolución de la tasa de matriculación por departamento\npunto4 <- data %>%\n  group_by(FECHA, DEPARTAMENTO) %>%\n  summarise(mean_TASA_MATRICULACIÓN_5_16 = mean(TASA_MATRICULACIÓN_5_16))\n\n# Gráfico interactivo con plotly\nfigura3 <- punto4 %>%\n  ggplot(aes(x = FECHA, y = mean_TASA_MATRICULACIÓN_5_16, color = DEPARTAMENTO)) +\n  geom_line() +\n  scale_color_viridis(discrete = TRUE) +\n  labs(title = \"EVOLUCIÓN DE LA TASA DE MATRICULACIÓN (5-16 AÑOS) POR DEPARTAMENTO\",\n       x = \"Fecha\",\n       y = \"Tasa de Matriculación\") +\n  theme_minimal()\n\n# Imprimir gráfico\nprint(figura3)\n\n# Correlación\npunto5 <- data %>%\n  select(COBERTURA_NETA, TASA_MATRICULACIÓN_5_16, SEDES_CONECTADAS_A_INTERNET)\ncorrelacion <- cor(punto5)\n\n\n# Mapa de calor\nheatmap(Corr, annot = TRUE, cmap = \"coolwarm\", fmt = \"%.2f\", linewidths = 0.5,\n        main = \"CORRELACIÓN ENTRE VARIABLES\")\n\n",
      "metadata": {},
      "execution_count": null,
      "outputs": []
    },
    {
      "cell_type": "code",
      "source": "# Instalar y cargar las bibliotecas necesarias\ninstall.packages(\"car\")  # Instalar el paquete car \nlibrary(car)\ninstall.packages(\"lmtest\")  # Instalar el paquete lmtest \nlibrary(lmtest)\n\n# Seleccionar las variables para el modelo\nX <- data.frame(TASA_MATRICULACIÓN_5_16 = data$TASA_MATRICULACIÓN_5_16,\n                SEDES_CONECTADAS_A_INTERNET = data$SEDES_CONECTADAS_A_INTERNET)\n\n# Agregar una constante a las variables independientes (intercepto)\nX <- cbind(1, X)\n\n# Variable dependiente\ny <- data$COBERTURA_NETA\n\n# Ajustar el modelo\nmodelo <- lm(y ~ ., data = X)\n\n# Obtener resumen del modelo\nsummary(modelo)\n",
      "metadata": {},
      "execution_count": null,
      "outputs": []
    },
    {
      "cell_type": "code",
      "source": "# Eliminar filas con valores nulos\ndata <- na.omit(data)\n\n\n# Eliminar filas con valores nulos en columnas específicas\ndata <- data[complete.cases(data$TASA_MATRICULACIÓN_5_16, data$SEDES_CONECTADAS_A_INTERNET, data$COBERTURA_NETA), ]\n",
      "metadata": {},
      "execution_count": null,
      "outputs": []
    },
    {
      "cell_type": "code",
      "source": "# Instalar y cargar las bibliotecas necesarias\ninstall.packages(\"caTools\")  # Instalar el paquete caTools \nlibrary(caTools)\n\n# Seleccionar las variables para el modelo\nX <- data[, c('GASTO_POR_ESTUDIANTE', 'RATIO_DOCENTES_ESTUDIANTES', 'ÍNDICE_DE_DESARROLLO_HUMANO', 'TASA_DE_GRADUACIÓN', 'TASA_DE_ABANDONO_ESCOLAR', 'TASA_DE_REPROBACIÓN')]\ny <- data$COBERTURA_NETA\n\n# Dividir los datos en conjuntos de entrenamiento y prueba\nset.seed(42)  # Establecer la semilla para reproducibilidad\nsplit <- sample.split(y, SplitRatio = 0.8)\nX_train <- subset(X, split == TRUE)\nX_test <- subset(X, split == FALSE)\ny_train <- y[split == TRUE]\ny_test <- y[split == FALSE]\n",
      "metadata": {},
      "execution_count": null,
      "outputs": []
    },
    {
      "cell_type": "markdown",
      "source": "## Crear un objeto de regresión lineal multiple",
      "metadata": {}
    },
    {
      "cell_type": "code",
      "source": "# Instalar y cargar las bibliotecas necesarias\ninstall.packages(\"car\")  # Instalar el paquete car \nlibrary(car)\n\n# Crear un objeto de regresión lineal multiple\nmodelo_regresion <- lm(y_train ~ ., data = X_train)\n\n# Ajustar el modelo con los datos de entrenamiento\nsummary(modelo_regresion)\n",
      "metadata": {},
      "execution_count": null,
      "outputs": []
    },
    {
      "cell_type": "code",
      "source": "# Predicciones en el conjunto de prueba\npredicciones <- predict(modelo_regresion, newdata = X_test)\n\n# Evaluación del rendimiento del modelo\nerror_cuadratico_medio <- mean((y_test - predicciones)^2)\nr_cuadrado <- 1 - (sum((y_test - predicciones)^2) / sum((y_test - mean(y_test))^2))\n\n# Imprimir resultados\ncat(\"Error cuadrático medio: \", error_cuadratico_medio, \"\\n\")\ncat(\"R-cuadrado: \", r_cuadrado, \"\\n\")\n",
      "metadata": {},
      "execution_count": null,
      "outputs": []
    },
    {
      "cell_type": "markdown",
      "source": "##  1. Coeficientes de la regresión",
      "metadata": {}
    },
    {
      "cell_type": "code",
      "source": "# Coeficientes de la regresión\ncoeficientes <- coef(modelo_regresion)\nintercepto <- coef(modelo_regresion)[1]  # El primer coeficiente es el intercepto\n\n# Imprimir coeficientes\ncat(\"Coeficientes:\\n\")\nfor (i in seq_along(coeficientes)[-1]) {  # Excluye el intercepto en la impresión\n    cat(sprintf(\"%s: %f\\n\", names(coeficientes)[i], coeficientes[i]))\n}\n\ncat(sprintf(\"Intercepto: %f\\n\", intercepto))\n",
      "metadata": {},
      "execution_count": null,
      "outputs": []
    },
    {
      "cell_type": "code",
      "source": "# Coeficientes de la regresión\ncoeficientes <- coef(modelo_regresion)\nintercepto <- coef(modelo_regresion)[1]  # El primer coeficiente es el intercepto\n\n# Imprimir coeficientes\ncat(\"Coeficientes:\\n\")\nfor (i in seq_along(coeficientes)[-1]) {  # Excluye el intercepto en la impresión\n    cat(sprintf(\"%s: %f\\n\", names(coeficientes)[i], coeficientes[i]))\n}\n\ncat(sprintf(\"Intercepto: %f\\n\", intercepto))\n\n# Lista de nombres de variables\nvariables <- c('GASTO_POR_ESTUDIANTE', 'RATIO_DOCENTES_ESTUDIANTES', 'ÍNDICE_DE_DESARROLLO_HUMANO', 'TASA_DE_GRADUACIÓN', 'TASA_DE_ABANDONO_ESCOLAR', 'TASA_DE_REPROBACIÓN')\n\n# Imprimir nombres de variables\ncat(\"Nombres de variables:\\n\")\nfor (variable in variables) {\n  cat(variable, \"\\n\")\n}\n",
      "metadata": {},
      "execution_count": null,
      "outputs": []
    },
    {
      "cell_type": "markdown",
      "source": "## 2. Predicciones en el conjunto de prueba",
      "metadata": {}
    },
    {
      "cell_type": "code",
      "source": "# Predicciones en el conjunto de prueba\npredicciones <- predict(modelo_regresion, newdata = X_test)\n",
      "metadata": {},
      "execution_count": null,
      "outputs": []
    },
    {
      "cell_type": "code",
      "source": "# Predicciones en el conjunto de prueba\npredicciones <- predict(modelo_regresion, newdata = X_test)\n\n# Lista de nombres de variables\nvariables <- c('GASTO_POR_ESTUDIANTE', 'RATIO_DOCENTES_ESTUDIANTES', 'ÍNDICE_DE_DESARROLLO_HUMANO', 'TASA_DE_GRADUACIÓN', 'TASA_DE_ABANDONO_ESCOLAR', 'TASA_DE_REPROBACIÓN')\n\n# Imprimir predicciones\ncat(\"Predicciones en el conjunto de prueba:\\n\")\nprint(predicciones)\n\n# Imprimir nombres de variables\ncat(\"Nombres de variables:\\n\")\nfor (variable in variables) {\n  cat(variable, \"\\n\")\n}\n",
      "metadata": {},
      "execution_count": null,
      "outputs": []
    },
    {
      "cell_type": "markdown",
      "source": "## 3. Evaluación del rendimiento del modelo",
      "metadata": {}
    },
    {
      "cell_type": "code",
      "source": "# Evaluación del rendimiento del modelo\nerror_cuadratico_medio <- mean((y_test - predicciones)^2)\nr_cuadrado <- 1 - (sum((y_test - predicciones)^2) / sum((y_test - mean(y_test))^2))\n\n# Imprimir resultados\ncat(\"Error cuadrático medio: \", error_cuadratico_medio, \"\\n\")\ncat(\"R-cuadrado: \", r_cuadrado, \"\\n\")\n",
      "metadata": {},
      "execution_count": null,
      "outputs": []
    },
    {
      "cell_type": "markdown",
      "source": "## 4. Lista de nombres de variables",
      "metadata": {}
    },
    {
      "cell_type": "code",
      "source": "c <-('GASTO_POR_ESTUDIANTE', 'RATIO_DOCENTES_ESTUDIANTES', 'ÍNDICE_DE_DESARROLLO_HUMANO', 'TASA_DE_GRADUACIÓN', 'TASA_DE_ABANDONO_ESCOLAR', 'TASA_DE_REPROBACIÓN')\n",
      "metadata": {},
      "execution_count": null,
      "outputs": []
    },
    {
      "cell_type": "code",
      "source": "# Evaluación del rendimiento del modelo\nerror_cuadratico_medio <- mean((y_test - predicciones)^2)\nr_cuadrado <- 1 - (sum((y_test - predicciones)^2) / sum((y_test - mean(y_test))^2))\n\n# Imprimir resultados\ncat(\"Error cuadrático medio: \", error_cuadratico_medio, \"\\n\")\ncat(\"R-cuadrado: \", r_cuadrado, \"\\n\")\n\n# Lista de nombres de variables\nvariables <- c('GASTO_POR_ESTUDIANTE', 'RATIO_DOCENTES_ESTUDIANTES', 'ÍNDICE_DE_DESARROLLO_HUMANO', 'TASA_DE_GRADUACIÓN', 'TASA_DE_ABANDONO_ESCOLAR', 'TASA_DE_REPROBACIÓN')\n\n# Imprimir nombres de variables\ncat(\"Nombres de variables:\\n\")\nfor (variable in variables) {\n  cat(variable, \"\\n\")\n}\n",
      "metadata": {},
      "execution_count": null,
      "outputs": []
    },
    {
      "cell_type": "markdown",
      "source": "## interpretar los coeficientes del modelo de regresión lineal múltiple:",
      "metadata": {}
    },
    {
      "cell_type": "code",
      "source": "# Coeficientes de la regresión\ncoeficientes <- coef(modelo_regresion)\nintercepto <- coef(modelo_regresion)[1]  # El primer coeficiente es el intercepto\n\n# Imprimir coeficientes\ncat(\"Coeficientes:\\n\")\nfor (i in seq_along(coeficientes)[-1]) {  # Excluye el intercepto en la impresión\n    cat(sprintf(\"%s: %f\\n\", names(coeficientes)[i], coeficientes[i]))\n}\n\ncat(sprintf(\"Intercepto: %f\\n\", intercepto))\n",
      "metadata": {},
      "execution_count": null,
      "outputs": []
    },
    {
      "cell_type": "markdown",
      "source": "##  División de datos (Aqui se dividen los datos)",
      "metadata": {}
    },
    {
      "cell_type": "code",
      "source": "# Instalar y cargar las bibliotecas necesarias\ninstall.packages(\"caTools\")  # Instalar el paquete caTools \ninstall.packages(\"car\")  # Instalar el paquete car \nlibrary(caTools)\nlibrary(car)\n\n# Preparación de datos\ndata <- na.omit(data)\n\n# División de datos (Aqui se dividen los datos)\nset.seed(42)\nsplit <- sample.split(data$COBERTURA_NETA, SplitRatio = 0.8)\ntrain_data <- subset(data, split == TRUE)\ntest_data <- subset(data, split == FALSE)\n\n# Construcción del modelo (Aqui se construye el modelo)\nmodelo_regresion <- lm(COBERTURA_NETA ~ GASTO_POR_ESTUDIANTE + RATIO_DOCENTES_ESTUDIANTES + ÍNDICE_DE_DESARROLLO_HUMANO + TASA_DE_GRADUACIÓN + TASA_DE_ABANDONO_ESCOLAR + TASA_DE_REPROBACIÓN, data = train_data)\n\n# Evaluación del modelo (Aqui se evalua el modelo)\npredicciones <- predict(modelo_regresion, newdata = test_data)\nerror_cuadratico_medio <- mean((test_data$COBERTURA_NETA - predicciones)^2)\nr_cuadrado <- 1 - (sum((test_data$COBERTURA_NETA - predicciones)^2) / sum((test_data$COBERTURA_NETA - mean(test_data$COBERTURA_NETA))^2))\n\ncat(\"Error cuadrático medio: \", error_cuadratico_medio, \"\\n\")\ncat(\"R-cuadrado: \", r_cuadrado, \"\\n\")\n\n# Interpretación del modelo (Aqui se interpreta ese modelo de regresion lineal multiple)\ncoeficientes <- coef(modelo_regresion)\nintercepto <- coef(modelo_regresion)[1]\n\ncat(\"Coeficientes:\\n\")\nfor (i in seq_along(coeficientes)[-1]) {\n    cat(sprintf(\"%s: %f\\n\", names(coeficientes)[i], coeficientes[i]))\n}\n\ncat(sprintf(\"Intercepto: %f\\n\", intercepto))\n",
      "metadata": {},
      "execution_count": null,
      "outputs": []
    },
    {
      "cell_type": "markdown",
      "source": "##  analizar y comentar los diagramas de dispersión de la variable respuesta con cada variable predictora",
      "metadata": {}
    },
    {
      "cell_type": "code",
      "source": "# Instalar y cargar las bibliotecas necesarias\ninstall.packages(\"ggplot2\")  # Instalar el paquete ggplot2 \ninstall.packages(\"gridExtra\")  # Instalar el paquete gridExtra \nlibrary(ggplot2)\nlibrary(gridExtra)\n\n# Utiliza el DataFrame original o el conjunto de datos con las nuevas variables\ndata <- na.omit(data)\n\n# Diagramas de dispersión\nvariables_predictoras <- c('GASTO_POR_ESTUDIANTE', 'RATIO_DOCENTES_ESTUDIANTES', 'ÍNDICE_DE_DESARROLLO_HUMANO', 'TASA_DE_GRADUACIÓN', 'TASA_DE_ABANDONO_ESCOLAR', 'TASA_DE_REPROBACIÓN')\nvariable_respuesta <- 'COBERTURA_NETA'\n\n# Crear una lista de gráficos\nscatter_plots <- lapply(variables_predictoras, function(predictor) {\n  ggplot(data, aes_string(x = predictor, y = variable_respuesta)) +\n    geom_point() +\n    labs(title = paste(\"Diagrama de dispersión entre\", predictor, \"y\", variable_respuesta),\n         x = predictor,\n         y = variable_respuesta)\n})\n\n# Organizar los gráficos en una cuadrícula\ngrid.arrange(grobs = scatter_plots, ncol = 2)\n",
      "metadata": {},
      "execution_count": null,
      "outputs": []
    },
    {
      "cell_type": "markdown",
      "source": "## calcular e imprimir los coeficientes de correlación de Pearson entre la variable respuesta y cada variable predictora:",
      "metadata": {}
    },
    {
      "cell_type": "code",
      "source": "# Utiliza el DataFrame original o el conjunto de datos con las nuevas variables\ndata <- na.omit(data)\n\n# Variables\nvariables_predictoras <- c('GASTO_POR_ESTUDIANTE', 'RATIO_DOCENTES_ESTUDIANTES', 'ÍNDICE_DE_DESARROLLO_HUMANO', 'TASA_DE_GRADUACIÓN', 'TASA_DE_ABANDONO_ESCOLAR', 'TASA_DE_REPROBACIÓN')\nvariable_respuesta <- 'COBERTURA_NETA'\n\n# Coeficientes de correlación de Pearson\ncorrelation_coefficients <- numeric(length(variables_predictoras))\nfor (i in seq_along(variables_predictoras)) {\n    correlation_coefficients[i] <- cor(data[[variables_predictoras[i]]], data[[variable_respuesta]])\n}\n\n# Imprimir coeficientes de correlación\nfor (i in seq_along(variables_predictoras)) {\n    cat(sprintf(\"Correlación entre %s y %s: %f\\n\", variables_predictoras[i], variable_respuesta, correlation_coefficients[i]))\n}\n",
      "metadata": {},
      "execution_count": null,
      "outputs": []
    },
    {
      "cell_type": "markdown",
      "source": "## para llevar a cabo la división de datos, ajustar el modelo de regresión lineal múltiple, interpretar los parámetros (los betas) \n## Y evaluar la calidad de predicción del modelo:\n## Realizar predicciones en conjunto de entrenamiento y prueba\n## Evaluar calidad de predicción en conjunto de entrenamiento\n## Evaluar calidad de predicción en conjunto de prueba",
      "metadata": {}
    },
    {
      "cell_type": "code",
      "source": "# Instalar y cargar las bibliotecas necesarias\ninstall.packages(\"caTools\")  # Instalar el paquete caTools \nlibrary(caTools)\ninstall.packages(\"Metrics\")  # Instalar el paquete Metrics \nlibrary(Metrics)\n\n# Utiliza el DataFrame original o el conjunto de datos con las nuevas variables\ndata <- na.omit(data)\n\n# Definir variables predictoras y variable respuesta\nvariables_predictoras <- c('GASTO_POR_ESTUDIANTE', 'RATIO_DOCENTES_ESTUDIANTES', 'ÍNDICE_DE_DESARROLLO_HUMANO', 'TASA_DE_GRADUACIÓN', 'TASA_DE_ABANDONO_ESCOLAR', 'TASA_DE_REPROBACIÓN')\nvariable_respuesta <- 'COBERTURA_NETA'\n\n# Dividir datos en conjunto de entrenamiento y prueba\nset.seed(42)\nsplit <- sample.split(data$COBERTURA_NETA, SplitRatio = 0.8)\ntrain_data <- subset(data, split == TRUE)\ntest_data <- subset(data, split == FALSE)\n\n# Inicializar modelo de regresión lineal\nmodel <- lm(COBERTURA_NETA ~ ., data = train_data)\n\n# Obtener coeficientes (betas)\nbetas <- coef(model)\nintercepto <- betas[1]  # El primer coeficiente es el intercepto\n\n# Interpretar parámetros del modelo\ncat(\"Coeficientes (betas):\", betas, \"\\n\")\ncat(\"Intercepto:\", intercepto, \"\\n\")\n\n# Realizar predicciones en conjunto de entrenamiento y prueba\ny_pred_train <- predict(model, newdata = train_data)\ny_pred_test <- predict(model, newdata = test_data)\n\n# Evaluar calidad de predicción en conjunto de entrenamiento\ncat(\"\\nMétricas en conjunto de entrenamiento:\\n\")\ncat(\"Error absoluto medio (MAE):\", mae(y_pred_train, train_data$COBERTURA_NETA), \"\\n\")\ncat(\"Error cuadrático medio (MSE):\", mse(y_pred_train, train_data$COBERTURA_NETA), \"\\n\")\ncat(\"Raíz cuadrada del error cuadrático medio (RMSE):\", rmse(y_pred_train, train_data$COBERTURA_NETA), \"\\n\")\ncat(\"Coeficiente de determinación (R^2):\", r_squared(y_pred_train, train_data$COBERTURA_NETA), \"\\n\")\n\n# Evaluar calidad de predicción en conjunto de prueba\ncat(\"\\nMétricas en conjunto de prueba:\\n\")\ncat(\"Error absoluto medio (MAE):\", mae(y_pred_test, test_data$COBERTURA_NETA), \"\\n\")\ncat(\"Error cuadrático medio (MSE):\", mse(y_pred_test, test_data$COBERTURA_NETA), \"\\n\")\ncat(\"Raíz cuadrada del error cuadrático medio (RMSE):\", rmse(y_pred_test, test_data$COBERTURA_NETA), \"\\n\")\ncat(\"Coeficiente de determinación (R^2):\", r_squared(y_pred_test, test_data$COBERTURA_NETA), \"\\n\")\n",
      "metadata": {},
      "execution_count": null,
      "outputs": []
    },
    {
      "cell_type": "code",
      "source": "",
      "metadata": {},
      "execution_count": null,
      "outputs": []
    },
    {
      "cell_type": "code",
      "source": "",
      "metadata": {},
      "execution_count": null,
      "outputs": []
    },
    {
      "cell_type": "code",
      "source": "",
      "metadata": {},
      "execution_count": null,
      "outputs": []
    },
    {
      "cell_type": "code",
      "source": "",
      "metadata": {},
      "execution_count": null,
      "outputs": []
    }
  ]
}